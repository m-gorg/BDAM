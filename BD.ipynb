{
 "cells": [
  {
   "cell_type": "code",
   "execution_count": 56,
   "metadata": {},
   "outputs": [],
   "source": [
    "import tempfile\n",
    "from pyspark.sql import SparkSession\n",
    "from pyspark.sql.functions import when\n",
    "from pyspark.sql.functions import col\n",
    "from pyspark.sql.functions import cos\n",
    "from pyspark.sql.functions import mean, stddev, mode"
   ]
  },
  {
   "cell_type": "code",
   "execution_count": 2,
   "metadata": {},
   "outputs": [
    {
     "name": "stdout",
     "output_type": "stream",
     "text": [
      "root\n",
      " |-- ride_id: string (nullable = true)\n",
      " |-- rideable_type: string (nullable = true)\n",
      " |-- started_at: string (nullable = true)\n",
      " |-- ended_at: string (nullable = true)\n",
      " |-- start_station_name: string (nullable = true)\n",
      " |-- start_station_id: string (nullable = true)\n",
      " |-- end_station_name: string (nullable = true)\n",
      " |-- end_station_id: string (nullable = true)\n",
      " |-- start_lat: string (nullable = true)\n",
      " |-- start_lng: string (nullable = true)\n",
      " |-- end_lat: string (nullable = true)\n",
      " |-- end_lng: string (nullable = true)\n",
      " |-- member_casual: string (nullable = true)\n",
      "\n"
     ]
    }
   ],
   "source": [
    "# Create SparkSession\n",
    "spark = SparkSession.builder.master(\"local[1]\").appName(\"SparkByExamples.com\").getOrCreate()\n",
    "\n",
    "# Read CSV File\n",
    "df = spark.read.option(\"header\", True).csv(\"archive/daily_rent_detail.csv\")\n",
    "\n",
    "df.printSchema()"
   ]
  },
  {
   "cell_type": "code",
   "execution_count": 3,
   "metadata": {},
   "outputs": [
    {
     "name": "stdout",
     "output_type": "stream",
     "text": [
      "+----------------+-------------+-------------------+-------------------+--------------------+----------------+--------------------+--------------+---------+----------+------------------+------------------+-------------+\n",
      "|         ride_id|rideable_type|         started_at|           ended_at|  start_station_name|start_station_id|    end_station_name|end_station_id|start_lat| start_lng|           end_lat|           end_lng|member_casual|\n",
      "+----------------+-------------+-------------------+-------------------+--------------------+----------------+--------------------+--------------+---------+----------+------------------+------------------+-------------+\n",
      "|946D42AD89539210|  docked_bike|2020-05-30 17:25:29|2020-05-31 18:25:22|   Anacostia Library|           31804|      11th & H St NE|       31614.0|38.865784|  -76.9784|         38.899983|        -76.991383|       casual|\n",
      "|CC46FAAB662B8613|  docked_bike|2020-05-09 14:42:04|2020-05-09 15:06:33|      10th & E St NW|           31256|21st St & Constit...|       31261.0|38.895914|-77.026064|         38.892459|        -77.046567|       member|\n",
      "|72F00B2FB833D6ED|  docked_bike|2020-05-24 17:27:19|2020-05-24 17:43:51|Connecticut Ave &...|           31305|      12th & U St NW|       31268.0|38.934267|-77.057979|         38.916787|        -77.028139|       member|\n",
      "|4DFBE6AED989DF35|  docked_bike|2020-05-27 15:29:52|2020-05-27 15:47:13|Connecticut Ave &...|           31305|14th & Belmont St NW|       31119.0|38.934267|-77.057979|         38.921074|        -77.031887|       casual|\n",
      "|1AAFE6B4331AB9DF|  docked_bike|2020-05-31 14:06:03|2020-05-31 14:30:30|Georgia Ave & Mor...|           31419|      17th & K St NW|       31213.0|38.932128|  -77.0235|          38.90276|         -77.03863|       casual|\n",
      "|6D3ABFE098967BB6|  docked_bike|2020-05-30 20:23:38|2020-05-30 20:46:36|Georgia Ave & Mor...|           31419|      17th & K St NW|       31213.0|38.932128|  -77.0235|          38.90276|         -77.03863|       casual|\n",
      "|EEB3FAE50EB584BE|  docked_bike|2020-05-02 16:36:20|2020-05-02 17:00:24|Connecticut Ave &...|           31305|      11th & O St NW|       31286.0|38.934267|-77.057979|          38.90843|         -77.02714|       casual|\n",
      "|538304F90B14EB2D|  docked_bike|2020-05-23 14:42:17|2020-05-23 15:52:05|      18th & C St NW|           31284|      18th & C St NW|       31284.0|38.893511|-77.041544|         38.893511|        -77.041544|       casual|\n",
      "|25D02FBBC08AEAE4|  docked_bike|2020-05-31 12:56:49|2020-05-31 15:22:19|Bethesda Ave & Ar...|           32002|Bethesda Ave & Ar...|       32002.0|38.981103|-77.097426|         38.981103|        -77.097426|       casual|\n",
      "|735850E9F932DE91|  docked_bike|2020-05-20 14:37:45|2020-05-20 14:41:13|       1st & M St SE|           31650|Potomac Ave & Hal...|       31648.0|38.876893|-77.006072| 38.87020104555703|-77.01083689928055|       member|\n",
      "|923F8CF326B79096|  docked_bike|2020-05-18 18:01:12|2020-05-18 18:06:00|       1st & M St SE|           31650|Potomac Ave & Hal...|       31648.0|38.876893|-77.006072| 38.87020104555703|-77.01083689928055|       member|\n",
      "|AAF9B04340FFBBAD|  docked_bike|2020-05-15 19:13:33|2020-05-16 20:13:27|Library St & Free...|           32216|Reston Pkwy & Spe...|       32225.0|38.959633|-77.358741|38.964207741006206|-77.35428035259247|       casual|\n",
      "|F9000506E5226EFA|  docked_bike|2020-05-21 17:39:32|2020-05-21 18:28:02| 14th & Upshur St NW|           31406|Georgia Ave & Pin...|       31414.0|38.942475|-77.032678|         38.967505|        -77.027976|       casual|\n",
      "|B80D5CAD4ED8E8E4|  docked_bike|2020-05-23 14:34:58|2020-05-23 14:51:59|Connecticut Ave &...|           31305|21st St & Pennsyl...|       31252.0|38.934267|-77.057979|         38.901539|        -77.046564|       casual|\n",
      "|8C1FDDE7BCC224EA|  docked_bike|2020-05-17 08:33:10|2020-05-17 09:01:06|West Hyattsville ...|           32418|Northwestern High...|       32411.0|38.955349|-76.968084|         38.975505|        -76.952199|       member|\n",
      "|597846DDBA897804|  docked_bike|2020-05-02 12:46:07|2020-05-02 13:07:15|S Arlington Mill ...|           31060|Wakefield High Sc...|       31054.0| 38.84232|-77.089555|         38.847129|         -77.11255|       member|\n",
      "|95B90EED6A4ACC73|  docked_bike|2020-05-14 18:31:49|2020-05-14 18:57:53|      18th & C St NW|           31284|Potomac & Pennsyl...|       31606.0|38.893511|-77.041544|           38.8803|          -76.9862|       member|\n",
      "|A0B4BECF2C3387F9|  docked_bike|2020-05-16 11:31:28|2020-05-16 12:49:45|       1st & M St SE|           31650|Market Square / K...|       31042.0|38.876893|-77.006072|         38.804718|        -77.043363|       casual|\n",
      "|FFD8B06B4F10EFBB|  docked_bike|2020-05-01 12:33:38|2020-05-01 12:58:00|Connecticut Ave &...|           31305|       1st & M St NE|       31603.0|38.934267|-77.057979|           38.9057|          -77.0056|       member|\n",
      "|AB0E2EF28989A5E1|  docked_bike|2020-05-06 14:39:24|2020-05-06 14:53:45|      10th & E St NW|           31256|       1st & M St NE|       31603.0|38.895914|-77.026064|           38.9057|          -77.0056|       member|\n",
      "+----------------+-------------+-------------------+-------------------+--------------------+----------------+--------------------+--------------+---------+----------+------------------+------------------+-------------+\n",
      "only showing top 20 rows\n",
      "\n"
     ]
    },
    {
     "data": {
      "text/plain": [
       "16086672"
      ]
     },
     "execution_count": 3,
     "metadata": {},
     "output_type": "execute_result"
    }
   ],
   "source": [
    "df.show()\n",
    "df.count()"
   ]
  },
  {
   "cell_type": "code",
   "execution_count": 4,
   "metadata": {},
   "outputs": [
    {
     "data": {
      "text/plain": [
       "[Row(member_casual='casual'), Row(member_casual='member')]"
      ]
     },
     "execution_count": 4,
     "metadata": {},
     "output_type": "execute_result"
    }
   ],
   "source": [
    "df.select('member_casual').distinct().collect()"
   ]
  },
  {
   "cell_type": "code",
   "execution_count": 5,
   "metadata": {},
   "outputs": [
    {
     "data": {
      "text/plain": [
       "[Row(rideable_type='docked_bike'),\n",
       " Row(rideable_type='electric_bike'),\n",
       " Row(rideable_type='classic_bike')]"
      ]
     },
     "execution_count": 5,
     "metadata": {},
     "output_type": "execute_result"
    }
   ],
   "source": [
    "df.select('rideable_type').distinct().collect()"
   ]
  },
  {
   "cell_type": "code",
   "execution_count": 6,
   "metadata": {},
   "outputs": [
    {
     "name": "stdout",
     "output_type": "stream",
     "text": [
      "root\n",
      " |-- ride_id: string (nullable = true)\n",
      " |-- rideable_type: string (nullable = true)\n",
      " |-- started_at: timestamp (nullable = true)\n",
      " |-- ended_at: timestamp (nullable = true)\n",
      " |-- start_station_id: integer (nullable = true)\n",
      " |-- end_station_id: integer (nullable = true)\n",
      " |-- start_lat: double (nullable = true)\n",
      " |-- start_lng: double (nullable = true)\n",
      " |-- end_lat: double (nullable = true)\n",
      " |-- end_lng: double (nullable = true)\n",
      " |-- is_member: boolean (nullable = false)\n",
      "\n"
     ]
    }
   ],
   "source": [
    "dftyped = df.withColumn(\"started_at\", df[\"started_at\"].cast(\"timestamp\"))\n",
    "dftyped = dftyped.withColumn(\"ended_at\", df[\"ended_at\"].cast(\"timestamp\"))\n",
    "dftyped = dftyped.withColumn(\"start_station_id\", df[\"start_station_id\"].cast(\"int\"))\n",
    "dftyped = dftyped.withColumn(\"end_station_id\", df[\"end_station_id\"].cast(\"int\"))\n",
    "dftyped = dftyped.withColumn(\"start_lat\", df[\"start_lat\"].cast(\"double\"))\n",
    "dftyped = dftyped.withColumn(\"start_lng\", df[\"start_lng\"].cast(\"double\"))\n",
    "dftyped = dftyped.withColumn(\"end_lat\", df[\"end_lat\"].cast(\"double\"))\n",
    "dftyped = dftyped.withColumn(\"end_lng\", df[\"end_lng\"].cast(\"double\"))\n",
    "\n",
    "dftyped = dftyped.withColumn(\"is_member\", when(df[\"member_casual\"] == \"member\", True).otherwise(False))\n",
    "\n",
    "dftyped = dftyped.drop(\"member_casual\")\n",
    "dftyped = dftyped.drop(\"start_station_name\")\n",
    "dftyped = dftyped.drop(\"end_station_name\")\n",
    "\n",
    "dftyped.printSchema()"
   ]
  },
  {
   "cell_type": "code",
   "execution_count": 7,
   "metadata": {},
   "outputs": [
    {
     "name": "stdout",
     "output_type": "stream",
     "text": [
      "+----------------+-------------+-------------------+-------------------+----------------+--------------+---------+----------+------------------+------------------+---------+\n",
      "|         ride_id|rideable_type|         started_at|           ended_at|start_station_id|end_station_id|start_lat| start_lng|           end_lat|           end_lng|is_member|\n",
      "+----------------+-------------+-------------------+-------------------+----------------+--------------+---------+----------+------------------+------------------+---------+\n",
      "|946D42AD89539210|  docked_bike|2020-05-30 17:25:29|2020-05-31 18:25:22|           31804|         31614|38.865784|  -76.9784|         38.899983|        -76.991383|    false|\n",
      "|CC46FAAB662B8613|  docked_bike|2020-05-09 14:42:04|2020-05-09 15:06:33|           31256|         31261|38.895914|-77.026064|         38.892459|        -77.046567|     true|\n",
      "|72F00B2FB833D6ED|  docked_bike|2020-05-24 17:27:19|2020-05-24 17:43:51|           31305|         31268|38.934267|-77.057979|         38.916787|        -77.028139|     true|\n",
      "|4DFBE6AED989DF35|  docked_bike|2020-05-27 15:29:52|2020-05-27 15:47:13|           31305|         31119|38.934267|-77.057979|         38.921074|        -77.031887|    false|\n",
      "|1AAFE6B4331AB9DF|  docked_bike|2020-05-31 14:06:03|2020-05-31 14:30:30|           31419|         31213|38.932128|  -77.0235|          38.90276|         -77.03863|    false|\n",
      "|6D3ABFE098967BB6|  docked_bike|2020-05-30 20:23:38|2020-05-30 20:46:36|           31419|         31213|38.932128|  -77.0235|          38.90276|         -77.03863|    false|\n",
      "|EEB3FAE50EB584BE|  docked_bike|2020-05-02 16:36:20|2020-05-02 17:00:24|           31305|         31286|38.934267|-77.057979|          38.90843|         -77.02714|    false|\n",
      "|538304F90B14EB2D|  docked_bike|2020-05-23 14:42:17|2020-05-23 15:52:05|           31284|         31284|38.893511|-77.041544|         38.893511|        -77.041544|    false|\n",
      "|25D02FBBC08AEAE4|  docked_bike|2020-05-31 12:56:49|2020-05-31 15:22:19|           32002|         32002|38.981103|-77.097426|         38.981103|        -77.097426|    false|\n",
      "|735850E9F932DE91|  docked_bike|2020-05-20 14:37:45|2020-05-20 14:41:13|           31650|         31648|38.876893|-77.006072| 38.87020104555703|-77.01083689928055|     true|\n",
      "|923F8CF326B79096|  docked_bike|2020-05-18 18:01:12|2020-05-18 18:06:00|           31650|         31648|38.876893|-77.006072| 38.87020104555703|-77.01083689928055|     true|\n",
      "|AAF9B04340FFBBAD|  docked_bike|2020-05-15 19:13:33|2020-05-16 20:13:27|           32216|         32225|38.959633|-77.358741|38.964207741006206|-77.35428035259247|    false|\n",
      "|F9000506E5226EFA|  docked_bike|2020-05-21 17:39:32|2020-05-21 18:28:02|           31406|         31414|38.942475|-77.032678|         38.967505|        -77.027976|    false|\n",
      "|B80D5CAD4ED8E8E4|  docked_bike|2020-05-23 14:34:58|2020-05-23 14:51:59|           31305|         31252|38.934267|-77.057979|         38.901539|        -77.046564|    false|\n",
      "|8C1FDDE7BCC224EA|  docked_bike|2020-05-17 08:33:10|2020-05-17 09:01:06|           32418|         32411|38.955349|-76.968084|         38.975505|        -76.952199|     true|\n",
      "|597846DDBA897804|  docked_bike|2020-05-02 12:46:07|2020-05-02 13:07:15|           31060|         31054| 38.84232|-77.089555|         38.847129|         -77.11255|     true|\n",
      "|95B90EED6A4ACC73|  docked_bike|2020-05-14 18:31:49|2020-05-14 18:57:53|           31284|         31606|38.893511|-77.041544|           38.8803|          -76.9862|     true|\n",
      "|A0B4BECF2C3387F9|  docked_bike|2020-05-16 11:31:28|2020-05-16 12:49:45|           31650|         31042|38.876893|-77.006072|         38.804718|        -77.043363|    false|\n",
      "|FFD8B06B4F10EFBB|  docked_bike|2020-05-01 12:33:38|2020-05-01 12:58:00|           31305|         31603|38.934267|-77.057979|           38.9057|          -77.0056|     true|\n",
      "|AB0E2EF28989A5E1|  docked_bike|2020-05-06 14:39:24|2020-05-06 14:53:45|           31256|         31603|38.895914|-77.026064|           38.9057|          -77.0056|     true|\n",
      "+----------------+-------------+-------------------+-------------------+----------------+--------------+---------+----------+------------------+------------------+---------+\n",
      "only showing top 20 rows\n",
      "\n"
     ]
    }
   ],
   "source": [
    "dftyped.show()"
   ]
  },
  {
   "cell_type": "code",
   "execution_count": null,
   "metadata": {},
   "outputs": [
    {
     "name": "stdout",
     "output_type": "stream",
     "text": [
      "ride_id: 0\n",
      "rideable_type: 0\n",
      "started_at: 0\n",
      "ended_at: 0\n",
      "start_station_id: 1450152\n",
      "end_station_id: 1558919\n",
      "start_lat: 10\n",
      "start_lng: 10\n",
      "end_lat: 25929\n",
      "end_lng: 25929\n",
      "is_member: 0\n"
     ]
    }
   ],
   "source": [
    "for c in dftyped.columns:\n",
    "    print(f\"{c}: {dftyped.filter(dftyped[c].isNull()).count()}\")\n",
    "    "
   ]
  },
  {
   "cell_type": "code",
   "execution_count": 48,
   "metadata": {},
   "outputs": [
    {
     "name": "stdout",
     "output_type": "stream",
     "text": [
      "+----------------+-------------+-------------------+-------------------+----------------+--------------+---------+----------+------------------+------------------+---------+--------------------+------------------+-------------------+\n",
      "|         ride_id|rideable_type|         started_at|           ended_at|start_station_id|end_station_id|start_lat| start_lng|           end_lat|           end_lng|is_member|                time|          distance|          min_speed|\n",
      "+----------------+-------------+-------------------+-------------------+----------------+--------------+---------+----------+------------------+------------------+---------+--------------------+------------------+-------------------+\n",
      "|946D42AD89539210|  docked_bike|2020-05-30 17:25:29|2020-05-31 18:25:22|           31804|         31614|38.865784|  -76.9784|         38.899983|        -76.991383|    false|  24.998055555555556|  3.82398468438306|0.15297128514194455|\n",
      "|CC46FAAB662B8613|  docked_bike|2020-05-09 14:42:04|2020-05-09 15:06:33|           31256|         31261|38.895914|-77.026064|         38.892459|        -77.046567|     true| 0.40805555555555556|0.9171920126150281|  2.247713577545338|\n",
      "|72F00B2FB833D6ED|  docked_bike|2020-05-24 17:27:19|2020-05-24 17:43:51|           31305|         31268|38.934267|-77.057979|         38.916787|        -77.028139|     true| 0.27555555555555555|2.2210197154315807|  8.060152193098478|\n",
      "|4DFBE6AED989DF35|  docked_bike|2020-05-27 15:29:52|2020-05-27 15:47:13|           31305|         31119|38.934267|-77.057979|         38.921074|        -77.031887|    false|  0.2891666666666667| 1.744522602327515| 6.0329311896052396|\n",
      "|1AAFE6B4331AB9DF|  docked_bike|2020-05-31 14:06:03|2020-05-31 14:30:30|           31419|         31213|38.932128|  -77.0235|          38.90276|         -77.03863|    false|              0.4075| 3.294956447044789|  8.085782692134453|\n",
      "|6D3ABFE098967BB6|  docked_bike|2020-05-30 20:23:38|2020-05-30 20:46:36|           31419|         31213|38.932128|  -77.0235|          38.90276|         -77.03863|    false|  0.3827777777777778| 3.294956447044789|   8.60801394002993|\n",
      "|EEB3FAE50EB584BE|  docked_bike|2020-05-02 16:36:20|2020-05-02 17:00:24|           31305|         31286|38.934267|-77.057979|          38.90843|         -77.02714|    false|  0.4011111111111111|3.0725328642981697|  7.660054232322308|\n",
      "|538304F90B14EB2D|  docked_bike|2020-05-23 14:42:17|2020-05-23 15:52:05|           31284|         31284|38.893511|-77.041544|         38.893511|        -77.041544|    false|  1.1633333333333333|               0.0|                0.0|\n",
      "|25D02FBBC08AEAE4|  docked_bike|2020-05-31 12:56:49|2020-05-31 15:22:19|           32002|         32002|38.981103|-77.097426|         38.981103|        -77.097426|    false|               2.425|               0.0|                0.0|\n",
      "|735850E9F932DE91|  docked_bike|2020-05-20 14:37:45|2020-05-20 14:41:13|           31650|         31648|38.876893|-77.006072| 38.87020104555703|-77.01083689928055|     true|0.057777777777777775|0.7673339884927582|  13.28078057006697|\n",
      "|923F8CF326B79096|  docked_bike|2020-05-18 18:01:12|2020-05-18 18:06:00|           31650|         31648|38.876893|-77.006072| 38.87020104555703|-77.01083689928055|     true|                0.08|0.7673339884927582|  9.591674856159479|\n",
      "|AAF9B04340FFBBAD|  docked_bike|2020-05-15 19:13:33|2020-05-16 20:13:27|           32216|         32225|38.959633|-77.358741|38.964207741006206|-77.35428035259247|    false|  24.998333333333335| 0.528078724856164|0.02112455729806643|\n",
      "|F9000506E5226EFA|  docked_bike|2020-05-21 17:39:32|2020-05-21 18:28:02|           31406|         31414|38.942475|-77.032678|         38.967505|        -77.027976|    false|  0.8083333333333333|2.7727821013004097| 3.4302458985159707|\n",
      "|B80D5CAD4ED8E8E4|  docked_bike|2020-05-23 14:34:58|2020-05-23 14:51:59|           31305|         31252|38.934267|-77.057979|         38.901539|        -77.046564|    false|  0.2836111111111111|3.6429888521294007| 12.845014561866645|\n",
      "|8C1FDDE7BCC224EA|  docked_bike|2020-05-17 08:33:10|2020-05-17 09:01:06|           32418|         32411|38.955349|-76.968084|         38.975505|        -76.952199|     true| 0.46555555555555556| 2.294900408049622|  4.929380351419235|\n",
      "|597846DDBA897804|  docked_bike|2020-05-02 12:46:07|2020-05-02 13:07:15|           31060|         31054| 38.84232|-77.089555|         38.847129|         -77.11255|     true|  0.3522222222222222| 1.187234013180219| 3.3706959364738083|\n",
      "|95B90EED6A4ACC73|  docked_bike|2020-05-14 18:31:49|2020-05-14 18:57:53|           31284|         31606|38.893511|-77.041544|           38.8803|          -76.9862|     true| 0.43444444444444447|2.6948488853608232|  6.202976973976319|\n",
      "|A0B4BECF2C3387F9|  docked_bike|2020-05-16 11:31:28|2020-05-16 12:49:45|           31650|         31042|38.876893|-77.006072|         38.804718|        -77.043363|    false|  1.3047222222222221| 8.137490917491471|  6.236952800291526|\n",
      "|FFD8B06B4F10EFBB|  docked_bike|2020-05-01 12:33:38|2020-05-01 12:58:00|           31305|         31603|38.934267|-77.057979|           38.9057|          -77.0056|     true|  0.4061111111111111|3.6967875214625923|  9.102896769675331|\n",
      "|AB0E2EF28989A5E1|  docked_bike|2020-05-06 14:39:24|2020-05-06 14:53:45|           31256|         31603|38.895914|-77.026064|           38.9057|          -77.0056|     true| 0.23916666666666667|1.3651154661800906|  5.707799858592713|\n",
      "+----------------+-------------+-------------------+-------------------+----------------+--------------+---------+----------+------------------+------------------+---------+--------------------+------------------+-------------------+\n",
      "only showing top 20 rows\n",
      "\n"
     ]
    }
   ],
   "source": [
    "df_daily = dftyped.withColumn(\"time\", (col(\"ended_at\") - col(\"started_at\")).cast(\"int\") / 3600)\n",
    "df_daily = df_daily.filter(df_daily[\"time\"] > 0).\\\n",
    "    filter(df[\"start_station_id\"].isNotNull()).\\\n",
    "    filter(df[\"start_lat\"].isNotNull()).\\\n",
    "    filter(df[\"end_lat\"].isNotNull())\n",
    "\n",
    "df_daily = df_daily.withColumn(\"distance\", (((col(\"end_lat\") - col(\"start_lat\")) * 110.574) ** 2 + ((col(\"end_lng\") - col(\"start_lng\")) * 111.320 * cos(col(\"start_lat\"))) ** 2) ** 0.5)\n",
    "df_daily = df_daily.withColumn(\"min_speed\", when(col(\"time\") > 0, col(\"distance\") / col(\"time\")).otherwise(0))\n",
    "\n",
    "df_daily.show()"
   ]
  },
  {
   "cell_type": "code",
   "execution_count": 49,
   "metadata": {},
   "outputs": [
    {
     "name": "stdout",
     "output_type": "stream",
     "text": [
      "+-------+--------------------+--------------------+--------------------+-------------------+--------------------+------------------+------------------+\n",
      "|summary|           start_lat|           start_lng|             end_lat|            end_lng|                time|          distance|         min_speed|\n",
      "+-------+--------------------+--------------------+--------------------+-------------------+--------------------+------------------+------------------+\n",
      "|  count|            14601274|            14601274|            14601274|           14601274|            14601274|          14601274|          14601274|\n",
      "|   mean|   38.90289793067572|  -77.03250917569827|   38.90188333690376| -77.03205067056088|   0.381198270914204|1.4155378893442456|   6.9891893628246|\n",
      "| stddev|0.026761264920492394|0.033828457299891763|0.048086112710553346|0.08522995373118246|   9.158297787226783| 5.539258060732394|17.626923618874713|\n",
      "|    min|  38.765070183333336|  -77.38259231666666|                 0.0|             -77.71|2.777777777777778E-4|               0.0|               0.0|\n",
      "|    max|              39.126|       -76.784139395|               39.67|                0.0|   5571.148611111111| 5400.965370110714|38847.755168143165|\n",
      "+-------+--------------------+--------------------+--------------------+-------------------+--------------------+------------------+------------------+\n",
      "\n"
     ]
    }
   ],
   "source": [
    "num = [\"start_lat\", \"start_lng\", \"end_lat\", \"end_lng\", \"time\", \"distance\", \"min_speed\"]\n",
    "\n",
    "df_daily.select(num).describe().show()"
   ]
  },
  {
   "cell_type": "code",
   "execution_count": 50,
   "metadata": {},
   "outputs": [],
   "source": [
    "def z_score_outlier_treatment(df, columns, threshold=3.0):\n",
    "    \"\"\"\n",
    "    Detects and removes outliers from a PySpark DataFrame using the z-score method.\n",
    "\n",
    "    :param df: PySpark DataFrame\n",
    "    :param columns: list of column names for which outliers should be removed\n",
    "    :param threshold: z-score threshold to determine outliers (default is 3.0)\n",
    "    :return: PySpark DataFrame with outliers removed\n",
    "    \"\"\"\n",
    "    for column in columns:\n",
    "        # Calculate mean and standard deviation\n",
    "        stats = df.select(mean(col(column)).alias('mean'), stddev(col(column)).alias('stddev')).collect()[0]\n",
    "\n",
    "        # Calculate z-scores and filter outliers\n",
    "        df = df.withColumn(f'{column}_z_score', (col(column) - stats['mean']) / stats['stddev']) \\\n",
    "               .filter(f'abs({column}_z_score) <= {threshold}') \\\n",
    "               .drop(f'{column}_z_score')\n",
    "\n",
    "    return df\n"
   ]
  },
  {
   "cell_type": "code",
   "execution_count": 51,
   "metadata": {},
   "outputs": [],
   "source": [
    "df_cleared = z_score_outlier_treatment(df_daily, num)"
   ]
  },
  {
   "cell_type": "code",
   "execution_count": 52,
   "metadata": {},
   "outputs": [
    {
     "name": "stdout",
     "output_type": "stream",
     "text": [
      "+-------+-------------------+-------------------+--------------------+--------------------+--------------------+------------------+-----------------+\n",
      "|summary|          start_lat|          start_lng|             end_lat|             end_lng|                time|          distance|        min_speed|\n",
      "+-------+-------------------+-------------------+--------------------+--------------------+--------------------+------------------+-----------------+\n",
      "|  count|           13647485|           13647485|            13647485|            13647485|            13647485|          13647485|         13647485|\n",
      "|   mean| 38.903228852436385| -77.02937463614234|  38.902423915079815|  -77.02897301162663| 0.31185262699806304|1.3156415095007494|6.715429807746666|\n",
      "| stddev|0.01924249843778637|0.02459502819571631|0.019262730970838318|0.024030800119054178|  0.7201401801379906|0.9671522189586372|4.115256965840871|\n",
      "|    min|       38.822614312|       -77.12808466|           38.782633|          -77.107766|2.777777777777778E-4|               0.0|              0.0|\n",
      "|    max|  38.98314833333333|      -76.932936549|               39.02|  -76.95178066666666|  27.802777777777777| 4.978663152334499|47.69495211189614|\n",
      "+-------+-------------------+-------------------+--------------------+--------------------+--------------------+------------------+-----------------+\n",
      "\n"
     ]
    }
   ],
   "source": [
    "df_cleared.select(num).describe().show()"
   ]
  },
  {
   "cell_type": "code",
   "execution_count": 57,
   "metadata": {},
   "outputs": [
    {
     "name": "stdout",
     "output_type": "stream",
     "text": [
      "+---------+----------+--------+---------+-------------------+--------+---------+\n",
      "|start_lat| start_lng| end_lat|  end_lng|               time|distance|min_speed|\n",
      "+---------+----------+--------+---------+-------------------+--------+---------+\n",
      "|38.915544|-77.038252|38.89696|-77.00493|0.11472222222222223|     0.0|      0.0|\n",
      "+---------+----------+--------+---------+-------------------+--------+---------+\n",
      "\n"
     ]
    }
   ],
   "source": [
    "df_cleared.agg(*[mode(c).alias(c) for c in num]).show()"
   ]
  }
 ],
 "metadata": {
  "kernelspec": {
   "display_name": "Python 3",
   "language": "python",
   "name": "python3"
  },
  "language_info": {
   "codemirror_mode": {
    "name": "ipython",
    "version": 3
   },
   "file_extension": ".py",
   "mimetype": "text/x-python",
   "name": "python",
   "nbconvert_exporter": "python",
   "pygments_lexer": "ipython3",
   "version": "3.11.3"
  }
 },
 "nbformat": 4,
 "nbformat_minor": 2
}
